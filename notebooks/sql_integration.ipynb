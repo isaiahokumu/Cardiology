{
 "cells": [
  {
   "cell_type": "code",
   "execution_count": null,
   "id": "f5d96cb3",
   "metadata": {},
   "outputs": [
    {
     "name": "stdout",
     "output_type": "stream",
     "text": [
      "SQL insert statements saved to heart_disease_inserts.sql\n"
     ]
    }
   ],
   "source": [
    "# Generate INSERT statements for MySQL\n",
    "import pandas as pd\n",
    "\n",
    "# Load dataset\n",
    "df = pd.read_csv(\"heart_disease_cleaned.csv\")\n",
    "\n",
    "patients_inserts = []\n",
    "clinical_inserts = []\n",
    "diagnosis_inserts = []\n",
    "\n",
    "for _, row in df.iterrows():\n",
    "    patient_id = int(row['id'])\n",
    "    factor_id = int(row['id'])\n",
    "    \n",
    "    # Patients table insert\n",
    "    patients_inserts.append(f\"\"\"INSERT INTO Patients (patient_id, age, sex, location, age_group) \n",
    "    VALUES ({patient_id}, {int(row['age'])}, '{row['sex']}', '{row['location']}', '{row['age_group']}');\"\"\")\n",
    "    \n",
    "    # Clinical_Factors insert\n",
    "    clinical_inserts.append(f\"\"\"INSERT INTO Clinical_Factors (factor_id, chest_pain_type, blood_pressure, cholesterol, fasting_blood_sugar, rest_ecg, max_heart_rate, exercise_angina, oldpeak, slope, ca) \n",
    "    VALUES ({factor_id}, '{row['cp']}', {row['trestbps']}, {row['chol']}, '{row['fbs']}', '{row['restecg']}', {row['thalch']}, '{row['exang']}', {row['oldpeak']}, '{row['slope']}', {row['ca']});\"\"\")\n",
    "    \n",
    "    # Diagnosis insert\n",
    "    has_disease = \"TRUE\" if row['has_disease'] else \"FALSE\"\n",
    "    diagnosis_inserts.append(f\"\"\"INSERT INTO Diagnosis (diagnosis_id, patient_id, factor_id, has_disease) \n",
    "    VALUES ({patient_id}, {patient_id}, {factor_id}, {has_disease});\"\"\")\n",
    "\n",
    "# Save to .sql file\n",
    "output_file = \"heart_disease_inserts.sql\"\n",
    "with open(output_file, \"w\") as f:\n",
    "    f.write(\"-- Inserts for Patients\\n\")\n",
    "    f.write(\"\\n\".join(patients_inserts))\n",
    "    f.write(\"\\n\\n-- Inserts for Clinical_Factors\\n\")\n",
    "    f.write(\"\\n\".join(clinical_inserts))\n",
    "    f.write(\"\\n\\n-- Inserts for Diagnosis\\n\")\n",
    "    f.write(\"\\n\".join(diagnosis_inserts))\n",
    "\n",
    "print(f\"SQL insert statements saved to {output_file}\")\n"
   ]
  }
 ],
 "metadata": {
  "kernelspec": {
   "display_name": "env",
   "language": "python",
   "name": "python3"
  },
  "language_info": {
   "codemirror_mode": {
    "name": "ipython",
    "version": 3
   },
   "file_extension": ".py",
   "mimetype": "text/x-python",
   "name": "python",
   "nbconvert_exporter": "python",
   "pygments_lexer": "ipython3",
   "version": "3.13.5"
  }
 },
 "nbformat": 4,
 "nbformat_minor": 5
}
